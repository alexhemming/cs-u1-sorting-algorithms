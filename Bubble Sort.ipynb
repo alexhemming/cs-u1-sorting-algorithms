{
 "cells": [
  {
   "cell_type": "markdown",
   "metadata": {},
   "source": [
    "# Bubble Sort\n",
    "## Pseudocode\n",
    "```\n",
    "procedure bubbleSort(list)\n",
    "   output list\n",
    "   for i = 0 to range length list -1, 0, -1 do:\t\t\n",
    "      for j = 0 to range i do:\n",
    "         if list[j] > list[j+1] then\n",
    "            temp = list[j]\n",
    "            list[j] = list[j+1]\n",
    "            list[j+1] = temp\n",
    "         end if        \n",
    "      end for \n",
    "   end for\n",
    "   output list\n",
    "end procedure \n",
    "```"
   ]
  },
  {
   "cell_type": "code",
   "execution_count": 13,
   "metadata": {},
   "outputs": [
    {
     "name": "stdout",
     "output_type": "stream",
     "text": [
      "UNSORTED: [5, 1, 2, 4, 8, 6]\n",
      "SORTED:   [1, 2, 4, 5, 6, 8]\n"
     ]
    }
   ],
   "source": [
    "def bubbleSort(arr):\n",
    "    print(\"UNSORTED:\",arr)\n",
    "    for i in range(len(arr)-1,0,-1):\n",
    "        for j in range(i):\n",
    "            if arr[j]>arr[j+1]:\n",
    "                temp = arr[j]\n",
    "                arr[j] = arr[j+1]\n",
    "                arr[j+1] = temp\n",
    "    print(\"SORTED:  \",arr)\n",
    "\n",
    "arr = [5,1,2,4,8,6]\n",
    "bubbleSort(arr)"
   ]
  }
 ],
 "metadata": {
  "kernelspec": {
   "display_name": "Python 3",
   "language": "python",
   "name": "python3"
  },
  "language_info": {
   "codemirror_mode": {
    "name": "ipython",
    "version": 3
   },
   "file_extension": ".py",
   "mimetype": "text/x-python",
   "name": "python",
   "nbconvert_exporter": "python",
   "pygments_lexer": "ipython3",
   "version": "3.5.2"
  }
 },
 "nbformat": 4,
 "nbformat_minor": 2
}
